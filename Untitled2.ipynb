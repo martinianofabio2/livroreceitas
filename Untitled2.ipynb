{
  "nbformat": 4,
  "nbformat_minor": 0,
  "metadata": {
    "colab": {
      "provenance": [],
      "authorship_tag": "ABX9TyMqSUHBskwRDZrEXwHV1pFA",
      "include_colab_link": true
    },
    "kernelspec": {
      "name": "python3",
      "display_name": "Python 3"
    },
    "language_info": {
      "name": "python"
    }
  },
  "cells": [
    {
      "cell_type": "markdown",
      "metadata": {
        "id": "view-in-github",
        "colab_type": "text"
      },
      "source": [
        "<a href=\"https://colab.research.google.com/github/martinianofabio2/livroreceitas/blob/master/Untitled2.ipynb\" target=\"_parent\"><img src=\"https://colab.research.google.com/assets/colab-badge.svg\" alt=\"Open In Colab\"/></a>"
      ]
    },
    {
      "cell_type": "code",
      "execution_count": 45,
      "metadata": {
        "colab": {
          "base_uri": "https://localhost:8080/"
        },
        "id": "h3Kp_EMwik1i",
        "outputId": "e7ada756-69d2-4b88-a3dc-500432e06962"
      },
      "outputs": [
        {
          "output_type": "stream",
          "name": "stdout",
          "text": [
            "0\n",
            "Diego Mariano\n",
            "13\n",
            "13\n",
            "D\n",
            "M\n",
            "i\n",
            "a\n",
            "e\n",
            "r\n",
            "Diego Mariano\n",
            "iego Mariano\n",
            "Diego\n",
            "diego mariano\n",
            "DIEGO MARIANO\n",
            "['O ', 'ato ', 'oeu a ', 'oupa do ', 'ei de Roma']\n",
            "-1\n",
            "a\n",
            "O rato roeu a roupa do rainha de Roma\n"
          ]
        }
      ],
      "source": [
        "for i in range (1):\n",
        "  print(i)\n",
        "\n",
        "a = \"Diego\"\n",
        "b = \"Mariano\"\n",
        "\n",
        "concatenar = a +\" \"+ b\n",
        "\n",
        "print(concatenar.strip())\n",
        "\n",
        "tamanho = len(concatenar.strip())\n",
        "print (tamanho)\n",
        "\n",
        "seq = \"JAIJKLSIJSI\"\n",
        "seq = len(concatenar)\n",
        "print (seq)\n",
        "\n",
        "print (a[0])\n",
        "print (b[0])\n",
        "print (a[1])\n",
        "print (b[1])\n",
        "print (a[2])\n",
        "print (b[2])\n",
        "\n",
        "print (concatenar[0:])\n",
        "print (concatenar[1:])\n",
        "print (concatenar[:5])\n",
        "\n",
        "print (concatenar.lower()) # tudo em letras minusculas\n",
        "\n",
        "print (concatenar.upper()) # tudo em maiusculas\n",
        "\n",
        "minha_string = \"O rato roeu a roupa do rei de Roma\"\n",
        "\n",
        "minha_lista = minha_string.split(\"r\")\n",
        "print(minha_lista)\n",
        "\n",
        "busca = minha_string.find(\"rei\")\n",
        "\n",
        "busca = minha_string.find(\"rainha\")\n",
        "\n",
        "print(busca)\n",
        "\n",
        "print(minha_string[busca:])\n",
        "\n",
        "minha_string = minha_string.replace(\"rei\",\"rainha\")\n",
        "\n",
        "print(minha_string)"
      ]
    }
  ]
}