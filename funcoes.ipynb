{
  "nbformat": 4,
  "nbformat_minor": 0,
  "metadata": {
    "colab": {
      "provenance": [],
      "authorship_tag": "ABX9TyNwWRKwJwiMBHh3yj3kcfgD",
      "include_colab_link": true
    },
    "kernelspec": {
      "name": "python3",
      "display_name": "Python 3"
    },
    "language_info": {
      "name": "python"
    }
  },
  "cells": [
    {
      "cell_type": "markdown",
      "metadata": {
        "id": "view-in-github",
        "colab_type": "text"
      },
      "source": [
        "<a href=\"https://colab.research.google.com/github/martinianofabio2/livroreceitas/blob/master/funcoes.ipynb\" target=\"_parent\"><img src=\"https://colab.research.google.com/assets/colab-badge.svg\" alt=\"Open In Colab\"/></a>"
      ]
    },
    {
      "cell_type": "code",
      "execution_count": 13,
      "metadata": {
        "colab": {
          "base_uri": "https://localhost:8080/"
        },
        "id": "PPrVufh6nlGd",
        "outputId": "da83d364-7ed4-4af2-cbde-a621dd640025"
      },
      "outputs": [
        {
          "output_type": "stream",
          "name": "stdout",
          "text": [
            "5\n",
            "12\n",
            "17\n"
          ]
        }
      ],
      "source": [
        "def soma(x,y):\n",
        "  return x+y\n",
        "\n",
        "def multiplicacao(x,y):\n",
        "  return x*y\n",
        "\n",
        "s = soma(2,3)\n",
        "m = multiplicacao(3,4)\n",
        "\n",
        "print(s)\n",
        "print(m)\n",
        "print(soma(s,m))"
      ]
    }
  ]
}