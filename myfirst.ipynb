{
  "nbformat": 4,
  "nbformat_minor": 0,
  "metadata": {
    "colab": {
      "provenance": [],
      "authorship_tag": "ABX9TyMwARN3bZduAo1SgXpHUFjE",
      "include_colab_link": true
    },
    "kernelspec": {
      "name": "python3",
      "display_name": "Python 3"
    },
    "language_info": {
      "name": "python"
    }
  },
  "cells": [
    {
      "cell_type": "markdown",
      "metadata": {
        "id": "view-in-github",
        "colab_type": "text"
      },
      "source": [
        "<a href=\"https://colab.research.google.com/github/martinianofabio2/livroreceitas/blob/master/myfirst.ipynb\" target=\"_parent\"><img src=\"https://colab.research.google.com/assets/colab-badge.svg\" alt=\"Open In Colab\"/></a>"
      ]
    },
    {
      "cell_type": "code",
      "execution_count": 9,
      "metadata": {
        "colab": {
          "base_uri": "https://localhost:8080/"
        },
        "id": "O7zFgjEmmWqL",
        "outputId": "4a9425c6-e1e8-4f32-9183-73c24526eb21"
      },
      "outputs": [
        {
          "output_type": "stream",
          "name": "stdout",
          "text": [
            "ola munto!\n",
            "OLA MUNTO\n",
            "ola munda\n",
            "Olá mundinho!\n",
            "ouytdm msdmso\n",
            "4\n",
            "4\n",
            "8\n",
            "1\n",
            "3.3333333333333335\n",
            "sobra\n",
            "1\n",
            "1\n",
            "1.1\n",
            "Eu sou uma string\n",
            "False\n",
            "False\n",
            "2\n",
            "False\n",
            "True\n",
            "False\n",
            "True\n",
            "False\n",
            "False\n",
            "False\n",
            "True\n",
            "b é maior que a\n"
          ]
        }
      ],
      "source": [
        "#-*- coding: utf-8 -*-\n",
        "\n",
        "minha_variavel = \"ola munto!\"\n",
        "\n",
        "print (minha_variavel)\n",
        "\n",
        "Minha_Variavel = \"OLA MUNTO\"\n",
        "\n",
        "print (Minha_Variavel)\n",
        "\n",
        "print (\"ola munda\")\n",
        "\n",
        "import matplotlib.pyplot as plt\n",
        "\n",
        "\n",
        "print (\"Olá mundinho!\")\n",
        "print (\"ouytdm msdmso\")\n",
        "\n",
        "print (2+2)\n",
        "print (2*2)\n",
        "print (2**3) # exponenciação\n",
        "print (2-1)\n",
        "print (10 / 3)\n",
        "print (\"sobra\")\n",
        "print (10 % 3)\n",
        "\n",
        "\n",
        "# este é um comentario pq estou usando hash tag\n",
        "\n",
        "\"\"\"\n",
        "tudo que esta entre aspas triplas\n",
        "sao comentatios de\n",
        "varias linhas\n",
        "\"\"\"\n",
        "\n",
        "var1 = 1 # variavel inteira\n",
        "var2 = 1.1 # variavel float (numero flutuante)\n",
        "var3 = \"Eu sou uma string\" # variavel string ou textual\n",
        "var4 = True # variavel booleana\n",
        "var4 = False # variavel booleana\n",
        "\n",
        "print (var1)\n",
        "print (var2)\n",
        "print (var3)\n",
        "print (var4)\n",
        "print (var4)\n",
        "\n",
        "\n",
        "x = 10  # x recebe o valor de 10\n",
        "\n",
        "x = 2\n",
        "y = 3\n",
        "z = 3\n",
        "\n",
        "print (x)\n",
        "\n",
        "print (x == y)\n",
        "print (x < y)\n",
        "print (x > y)\n",
        "\n",
        "soma = x + y\n",
        "\n",
        "print (soma  > y)\n",
        "\n",
        "print (soma == y)\n",
        "\n",
        "print (x == y and x == soma)\n",
        "\n",
        "print (x == y and x == z)\n",
        "\n",
        "print (x == y or y == z)\n",
        "\n",
        "a = 1\n",
        "b = 1000000\n",
        "\n",
        "if a > b:\n",
        "  print (\"a é maior que b\")\n",
        "\n",
        "if b > a:\n",
        "  print (\"b é maior que a\")\n"
      ]
    }
  ]
}